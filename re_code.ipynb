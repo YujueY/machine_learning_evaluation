{
 "cells": [
  {
   "cell_type": "markdown",
   "metadata": {},
   "source": [
    "## Linear-Regression"
   ]
  },
  {
   "cell_type": "code",
   "execution_count": 2,
   "metadata": {},
   "outputs": [],
   "source": [
    "import numpy as np"
   ]
  },
  {
   "cell_type": "code",
   "execution_count": 3,
   "metadata": {},
   "outputs": [],
   "source": [
    "random_data = np.random.random((30,2))"
   ]
  },
  {
   "cell_type": "code",
   "execution_count": 4,
   "metadata": {},
   "outputs": [
    {
     "data": {
      "text/plain": [
       "array([[0.76934799, 0.50767957],\n",
       "       [0.44214714, 0.17812532],\n",
       "       [0.85664126, 0.79793953],\n",
       "       [0.87853954, 0.37263972],\n",
       "       [0.65590061, 0.78518937],\n",
       "       [0.19652491, 0.10054092],\n",
       "       [0.99486257, 0.92956326],\n",
       "       [0.95645515, 0.50639145],\n",
       "       [0.49189992, 0.73581789],\n",
       "       [0.11718071, 0.04140568],\n",
       "       [0.53216627, 0.23329058],\n",
       "       [0.26924864, 0.56159218],\n",
       "       [0.48206974, 0.02850653],\n",
       "       [0.73050658, 0.01409784],\n",
       "       [0.27465982, 0.40105375],\n",
       "       [0.24638422, 0.35120807],\n",
       "       [0.12184626, 0.17074584],\n",
       "       [0.02173327, 0.10039107],\n",
       "       [0.57994822, 0.31156046],\n",
       "       [0.85603215, 0.76175511],\n",
       "       [0.1418862 , 0.38637632],\n",
       "       [0.15458128, 0.20854858],\n",
       "       [0.21242813, 0.31480912],\n",
       "       [0.67258969, 0.31215382],\n",
       "       [0.05735926, 0.33815554],\n",
       "       [0.89895115, 0.5534879 ],\n",
       "       [0.70258686, 0.95866843],\n",
       "       [0.08342092, 0.25402862],\n",
       "       [0.07705341, 0.91009848],\n",
       "       [0.72549159, 0.14828357]])"
      ]
     },
     "execution_count": 4,
     "metadata": {},
     "output_type": "execute_result"
    }
   ],
   "source": [
    "random_data"
   ]
  },
  {
   "cell_type": "code",
   "execution_count": 5,
   "metadata": {},
   "outputs": [],
   "source": [
    "import matplotlib.pyplot as plt"
   ]
  },
  {
   "cell_type": "code",
   "execution_count": 6,
   "metadata": {},
   "outputs": [],
   "source": [
    "X = random_data[:, 0]"
   ]
  },
  {
   "cell_type": "code",
   "execution_count": 7,
   "metadata": {},
   "outputs": [],
   "source": [
    "y = random_data[:, 1]"
   ]
  },
  {
   "cell_type": "code",
   "execution_count": 8,
   "metadata": {},
   "outputs": [],
   "source": [
    "import random"
   ]
  },
  {
   "cell_type": "code",
   "execution_count": 9,
   "metadata": {},
   "outputs": [],
   "source": [
    "def assmuing_function(x):\n",
    "    return 13.4 * x + 5 + random.randint(-5, 5)"
   ]
  },
  {
   "cell_type": "code",
   "execution_count": 10,
   "metadata": {},
   "outputs": [],
   "source": [
    "y = [assmuing_function(x) for x in X]"
   ]
  },
  {
   "cell_type": "code",
   "execution_count": 11,
   "metadata": {},
   "outputs": [
    {
     "data": {
      "text/plain": [
       "<matplotlib.collections.PathCollection at 0x15552c0a048>"
      ]
     },
     "execution_count": 11,
     "metadata": {},
     "output_type": "execute_result"
    },
    {
     "data": {
      "image/png": "[encoded data removed]",
      "text/plain": [
       "<Figure size 432x288 with 1 Axes>"
      ]
     },
     "metadata": {
      "needs_background": "light"
     },
     "output_type": "display_data"
    }
   ],
   "source": [
    "plt.scatter(X, y)"
   ]
  },
  {
   "cell_type": "code",
   "execution_count": 12,
   "metadata": {},
   "outputs": [],
   "source": [
    "y = np.array(y)"
   ]
  },
  {
   "cell_type": "code",
   "execution_count": 13,
   "metadata": {},
   "outputs": [
    {
     "data": {
      "text/plain": [
       "array([19.30926311,  6.92477172, 15.47899292, 13.77242982, 15.7890682 ,\n",
       "        8.63343383, 19.33115846, 18.81649906,  6.59145896,  4.57022145,\n",
       "        8.13102796, 10.60793176, 11.45973457, 10.78878821,  9.68044155,\n",
       "        4.30154851,  9.63273985,  4.29122575, 14.7713062 , 11.47083085,\n",
       "        1.90127512,  5.07138914,  2.846537  , 10.0127019 ,  0.76861411,\n",
       "       17.04594546, 17.41466386,  9.11784034,  1.03251566, 11.72158724])"
      ]
     },
     "execution_count": 13,
     "metadata": {},
     "output_type": "execute_result"
    }
   ],
   "source": [
    "y"
   ]
  },
  {
   "cell_type": "code",
   "execution_count": 14,
   "metadata": {},
   "outputs": [],
   "source": [
    "import numpy as np"
   ]
  },
  {
   "cell_type": "code",
   "execution_count": 15,
   "metadata": {},
   "outputs": [],
   "source": [
    "from sklearn.linear_model import LinearRegression"
   ]
  },
  {
   "cell_type": "code",
   "execution_count": 16,
   "metadata": {},
   "outputs": [],
   "source": [
    "reg =  LinearRegression().fit(X.reshape(-1, 1), y)"
   ]
  },
  {
   "cell_type": "code",
   "execution_count": 17,
   "metadata": {},
   "outputs": [
    {
     "data": {
      "text/plain": [
       "0.707422032831455"
      ]
     },
     "execution_count": 17,
     "metadata": {},
     "output_type": "execute_result"
    }
   ],
   "source": [
    "reg.score(X.reshape(-1, 1), y)"
   ]
  },
  {
   "cell_type": "code",
   "execution_count": 18,
   "metadata": {},
   "outputs": [
    {
     "data": {
      "text/plain": [
       "array([14.6913654])"
      ]
     },
     "execution_count": 18,
     "metadata": {},
     "output_type": "execute_result"
    }
   ],
   "source": [
    "reg.coef_\n",
    "# 斜率"
   ]
  },
  {
   "cell_type": "code",
   "execution_count": 19,
   "metadata": {},
   "outputs": [
    {
     "data": {
      "text/plain": [
       "3.088734622055063"
      ]
     },
     "execution_count": 19,
     "metadata": {},
     "output_type": "execute_result"
    }
   ],
   "source": [
    "reg.intercept_\n",
    "# 截距"
   ]
  },
  {
   "cell_type": "code",
   "execution_count": 20,
   "metadata": {},
   "outputs": [],
   "source": [
    "def f(x):\n",
    "    return reg.coef_ * x + reg.intercept_"
   ]
  },
  {
   "cell_type": "code",
   "execution_count": 21,
   "metadata": {
    "scrolled": true
   },
   "outputs": [
    {
     "data": {
      "text/plain": [
       "[<matplotlib.lines.Line2D at 0x15557646a88>]"
      ]
     },
     "execution_count": 21,
     "metadata": {},
     "output_type": "execute_result"
    },
    {
     "data": {
      "image/png": "[encoded data removed]",
      "text/plain": [
       "<Figure size 432x288 with 1 Axes>"
      ]
     },
     "metadata": {
      "needs_background": "light"
     },
     "output_type": "display_data"
    }
   ],
   "source": [
    "plt.scatter(X, y)\n",
    "# 散点图\n",
    "plt.plot(X, f(X), color='red')\n",
    "# 折线图"
   ]
  },
  {
   "cell_type": "code",
   "execution_count": 22,
   "metadata": {},
   "outputs": [
    {
     "data": {
      "text/plain": [
       "array([16.31096348])"
      ]
     },
     "execution_count": 22,
     "metadata": {},
     "output_type": "execute_result"
    }
   ],
   "source": [
    "reg.predict([[0.9]])"
   ]
  },
  {
   "cell_type": "markdown",
   "metadata": {},
   "source": [
    "# KNN"
   ]
  },
  {
   "cell_type": "code",
   "execution_count": 23,
   "metadata": {},
   "outputs": [],
   "source": [
    "def model(X, y):\n",
    "    return [(Xi, yi) for Xi, yi in zip(X, y)]"
   ]
  },
  {
   "cell_type": "code",
   "execution_count": 24,
   "metadata": {},
   "outputs": [],
   "source": [
    "from scipy.spatial.distance import cosine"
   ]
  },
  {
   "cell_type": "code",
   "execution_count": 25,
   "metadata": {},
   "outputs": [],
   "source": [
    "def distance(x1, x2):\n",
    "    return cosine(x1, x2)"
   ]
  },
  {
   "cell_type": "code",
   "execution_count": 26,
   "metadata": {},
   "outputs": [],
   "source": [
    "def predict(x, k = 5):\n",
    "    most_similars = sorted(model(X, y), key=lambda xi: distance(xi[0], x))[:k]\n",
    "#     most_similars = sorted(model(X, y)，key=lambda xi: distance(xi[0], x))[:k]\n",
    "    y_hat = [_y for x, _y in most_similars]\n",
    "    return np.mean(y_hat)"
   ]
  },
  {
   "cell_type": "code",
   "execution_count": 27,
   "metadata": {},
   "outputs": [
    {
     "data": {
      "text/plain": [
       "15.263719001690205"
      ]
     },
     "execution_count": 27,
     "metadata": {},
     "output_type": "execute_result"
    }
   ],
   "source": [
    "predict(0.9)"
   ]
  },
  {
   "cell_type": "markdown",
   "metadata": {},
   "source": [
    "## Decision Tree"
   ]
  },
  {
   "cell_type": "code",
   "execution_count": 28,
   "metadata": {},
   "outputs": [],
   "source": [
    "from collections import Counter"
   ]
  },
  {
   "cell_type": "code",
   "execution_count": 29,
   "metadata": {},
   "outputs": [],
   "source": [
    "from icecream import ic"
   ]
  },
  {
   "cell_type": "code",
   "execution_count": 30,
   "metadata": {},
   "outputs": [],
   "source": [
    "def entropy(elements):\n",
    "    counter = Counter(elements)\n",
    "    probs = [counter[c] / len(elements) for c in set(elements)]\n",
    "    ic(probs)\n",
    "    return - sum(p * np.log(p) for p in probs)"
   ]
  },
  {
   "cell_type": "code",
   "execution_count": 31,
   "metadata": {},
   "outputs": [],
   "source": [
    "mock_data = {\n",
    "    'gender':['F', 'F', 'F', 'F', 'M', 'M', 'M'],\n",
    "    'income': ['+10', '-10', '+10', '+10', '+10', '+10', '-10'],\n",
    "    'family_number': [1, 1, 2, 1, 1, 1, 2],\n",
    "    'bought': [1, 1, 1, 0, 0, 0, 1],\n",
    "}"
   ]
  },
  {
   "cell_type": "code",
   "execution_count": 32,
   "metadata": {},
   "outputs": [],
   "source": [
    "import pandas as pd"
   ]
  },
  {
   "cell_type": "code",
   "execution_count": 33,
   "metadata": {},
   "outputs": [],
   "source": [
    "dataset = pd.DataFrame.from_dict(mock_data)"
   ]
  },
  {
   "cell_type": "code",
   "execution_count": 63,
   "metadata": {},
   "outputs": [],
   "source": [
    "def find_the_optimal_spilter(training_data: pd.DataFrame, target: str):\n",
    "\n",
    "    x_fields = set(training_data.columns.tolist()) - {target}\n",
    "    spliter = None\n",
    "    min_entropy = float('inf')\n",
    "    for f in x_fields:\n",
    "        ic(f)\n",
    "        values = set(training_data[f])\n",
    "        ic(values)\n",
    "        for v in values:\n",
    "            sub_spliter_1 = training_data[training_data[f] == v][target].tolist()\n",
    "            ic(sub_spliter_1)\n",
    "            # split by the current feature and one value\n",
    "            entropy_1 = entropy(sub_spliter_1)\n",
    "            ic(entropy_1)\n",
    "            \n",
    "            sub_spliter_2 = training_data[training_data[f] != v][target].tolist()\n",
    "            ic(sub_spliter_2)\n",
    "            entropy_2 = entropy(sub_spliter_2)\n",
    "            ic(entropy_2)\n",
    "            \n",
    "            entropy_v = entropy_1 + entropy_2\n",
    "            ic(entropy_v)\n",
    "            \n",
    "            if entropy_v <= min_entropy:\n",
    "                min_entropy = entropy_v\n",
    "                spliter = (f, v)\n",
    "    \n",
    "    print('spliter is: {}'.format(spliter))\n",
    "    print('the min entropy is: {}'.format(min_entropy))\n",
    "    \n",
    "    return spliter"
   ]
  },
  {
   "cell_type": "code",
   "execution_count": 64,
   "metadata": {},
   "outputs": [
    {
     "name": "stderr",
     "output_type": "stream",
     "text": [
      "ic| f: 'gender'\n",
      "ic| values: {'M', 'F'}\n",
      "ic| sub_spliter_1: [0, 0, 1]\n",
      "ic| probs: [0.6666666666666666, 0.3333333333333333]\n",
      "ic| entropy_1: 0.6365141682948128\n",
      "ic| sub_spliter_2: [1, 1, 1, 0]\n",
      "ic| probs: [0.25, 0.75]\n",
      "ic| entropy_2: 0.5623351446188083\n",
      "ic| entropy_v: 1.198849312913621\n",
      "ic| sub_spliter_1: [1, 1, 1, 0]\n",
      "ic| probs: [0.25, 0.75]\n",
      "ic| entropy_1: 0.5623351446188083\n",
      "ic| sub_spliter_2: [0, 0, 1]\n",
      "ic| probs: [0.6666666666666666, 0.3333333333333333]\n",
      "ic| entropy_2: 0.6365141682948128\n",
      "ic| entropy_v: 1.198849312913621\n",
      "ic| f: 'income'\n",
      "ic| values: {'+10', '-10'}\n",
      "ic| sub_spliter_1: [1, 1, 0, 0, 0]\n",
      "ic| probs: [0.6, 0.4]\n",
      "ic| entropy_1: 0.6730116670092565\n",
      "ic| sub_spliter_2: [1, 1]\n",
      "ic| probs: [1.0]\n",
      "ic| entropy_2: -0.0\n",
      "ic| entropy_v: 0.6730116670092565\n",
      "ic| sub_spliter_1: [1, 1]\n",
      "ic| probs: [1.0]\n",
      "ic| entropy_1: -0.0\n",
      "ic| sub_spliter_2: [1, 1, 0, 0, 0]\n",
      "ic| probs: [0.6, 0.4]\n",
      "ic| entropy_2: 0.6730116670092565\n",
      "ic| entropy_v: 0.6730116670092565\n",
      "ic| f: 'family_number'\n",
      "ic| values: {1, 2}\n",
      "ic| sub_spliter_1: [1, 1, 0, 0, 0]\n",
      "ic| probs: [0.6, 0.4]\n",
      "ic| entropy_1: 0.6730116670092565\n",
      "ic| sub_spliter_2: [1, 1]\n",
      "ic| probs: [1.0]\n",
      "ic| entropy_2: -0.0\n",
      "ic| entropy_v: 0.6730116670092565\n",
      "ic| sub_spliter_1: [1, 1]\n",
      "ic| probs: [1.0]\n",
      "ic| entropy_1: -0.0\n",
      "ic| sub_spliter_2: [1, 1, 0, 0, 0]\n",
      "ic| probs: [0.6, 0.4]\n",
      "ic| entropy_2: 0.6730116670092565\n",
      "ic| entropy_v: 0.6730116670092565\n"
     ]
    },
    {
     "name": "stdout",
     "output_type": "stream",
     "text": [
      "spliter is: ('family_number', 2)\n",
      "the min entropy is: 0.6730116670092565\n"
     ]
    },
    {
     "data": {
      "text/plain": [
       "('family_number', 2)"
      ]
     },
     "execution_count": 64,
     "metadata": {},
     "output_type": "execute_result"
    }
   ],
   "source": [
    "find_the_optimal_spilter(training_data=dataset, target='bought')"
   ]
  },
  {
   "cell_type": "markdown",
   "metadata": {},
   "source": [
    "## Kmeans"
   ]
  },
  {
   "cell_type": "code",
   "execution_count": 36,
   "metadata": {},
   "outputs": [],
   "source": [
    "from sklearn.cluster import KMeans"
   ]
  },
  {
   "cell_type": "code",
   "execution_count": 37,
   "metadata": {},
   "outputs": [],
   "source": [
    "X1 = [random.randint(0, 100) for _ in range(100)]\n",
    "X2 = [random.randint(0, 100) for _ in range(100)]"
   ]
  },
  {
   "cell_type": "code",
   "execution_count": 38,
   "metadata": {},
   "outputs": [
    {
     "data": {
      "text/plain": [
       "<matplotlib.collections.PathCollection at 0x155596917c8>"
      ]
     },
     "execution_count": 38,
     "metadata": {},
     "output_type": "execute_result"
    },
    {
     "data": {
      "image/png": "[encoded data removed]",
      "text/plain": [
       "<Figure size 432x288 with 1 Axes>"
      ]
     },
     "metadata": {
      "needs_background": "light"
     },
     "output_type": "display_data"
    }
   ],
   "source": [
    "plt.scatter(X1, X2)"
   ]
  },
  {
   "cell_type": "code",
   "execution_count": 39,
   "metadata": {},
   "outputs": [],
   "source": [
    "tranning_data = [[x1, x2] for x1, x2 in zip(X1, X2)]"
   ]
  },
  {
   "cell_type": "code",
   "execution_count": 40,
   "metadata": {},
   "outputs": [
    {
     "data": {
      "text/plain": [
       "[[65, 45],\n",
       " [69, 20],\n",
       " [21, 79],\n",
       " [66, 86],\n",
       " [28, 22],\n",
       " [11, 50],\n",
       " [92, 29],\n",
       " [47, 89],\n",
       " [57, 90],\n",
       " [46, 3],\n",
       " [71, 66],\n",
       " [77, 60],\n",
       " [45, 97],\n",
       " [99, 45],\n",
       " [74, 0],\n",
       " [71, 93],\n",
       " [88, 79],\n",
       " [23, 2],\n",
       " [5, 12],\n",
       " [89, 12],\n",
       " [32, 53],\n",
       " [96, 72],\n",
       " [63, 57],\n",
       " [65, 94],\n",
       " [34, 64],\n",
       " [58, 13],\n",
       " [89, 1],\n",
       " [96, 93],\n",
       " [10, 31],\n",
       " [69, 45],\n",
       " [0, 97],\n",
       " [40, 64],\n",
       " [64, 51],\n",
       " [15, 17],\n",
       " [26, 5],\n",
       " [16, 51],\n",
       " [24, 52],\n",
       " [62, 47],\n",
       " [60, 71],\n",
       " [38, 20],\n",
       " [25, 53],\n",
       " [18, 19],\n",
       " [10, 85],\n",
       " [71, 0],\n",
       " [16, 71],\n",
       " [12, 10],\n",
       " [24, 70],\n",
       " [21, 98],\n",
       " [77, 74],\n",
       " [34, 27],\n",
       " [3, 99],\n",
       " [71, 95],\n",
       " [8, 99],\n",
       " [33, 98],\n",
       " [56, 58],\n",
       " [92, 40],\n",
       " [100, 57],\n",
       " [3, 12],\n",
       " [93, 67],\n",
       " [81, 27],\n",
       " [85, 83],\n",
       " [93, 61],\n",
       " [93, 97],\n",
       " [52, 82],\n",
       " [90, 84],\n",
       " [91, 47],\n",
       " [22, 34],\n",
       " [49, 15],\n",
       " [100, 80],\n",
       " [46, 95],\n",
       " [8, 61],\n",
       " [82, 88],\n",
       " [52, 69],\n",
       " [74, 77],\n",
       " [3, 81],\n",
       " [1, 32],\n",
       " [14, 97],\n",
       " [85, 76],\n",
       " [54, 14],\n",
       " [4, 8],\n",
       " [99, 21],\n",
       " [1, 9],\n",
       " [37, 8],\n",
       " [18, 100],\n",
       " [29, 63],\n",
       " [20, 79],\n",
       " [42, 53],\n",
       " [29, 69],\n",
       " [61, 11],\n",
       " [23, 4],\n",
       " [56, 59],\n",
       " [32, 29],\n",
       " [14, 60],\n",
       " [77, 40],\n",
       " [89, 80],\n",
       " [85, 100],\n",
       " [93, 97],\n",
       " [2, 88],\n",
       " [40, 71],\n",
       " [33, 42]]"
      ]
     },
     "execution_count": 40,
     "metadata": {},
     "output_type": "execute_result"
    }
   ],
   "source": [
    "tranning_data"
   ]
  },
  {
   "cell_type": "code",
   "execution_count": 41,
   "metadata": {},
   "outputs": [],
   "source": [
    "cluster = KMeans(n_clusters = 6, max_iter = 500)"
   ]
  },
  {
   "cell_type": "code",
   "execution_count": 42,
   "metadata": {},
   "outputs": [
    {
     "data": {
      "text/plain": [
       "KMeans(algorithm='auto', copy_x=True, init='k-means++', max_iter=500,\n",
       "       n_clusters=6, n_init=10, n_jobs=None, precompute_distances='auto',\n",
       "       random_state=None, tol=0.0001, verbose=0)"
      ]
     },
     "execution_count": 42,
     "metadata": {},
     "output_type": "execute_result"
    }
   ],
   "source": [
    "cluster.fit(tranning_data)"
   ]
  },
  {
   "cell_type": "code",
   "execution_count": 43,
   "metadata": {},
   "outputs": [
    {
     "data": {
      "text/plain": [
       "array([[18.44444444, 16.72222222],\n",
       "       [73.35294118, 54.        ],\n",
       "       [19.4       , 92.06666667],\n",
       "       [71.69230769, 12.76923077],\n",
       "       [26.0625    , 59.1875    ],\n",
       "       [81.33333333, 85.0952381 ]])"
      ]
     },
     "execution_count": 43,
     "metadata": {},
     "output_type": "execute_result"
    }
   ],
   "source": [
    "cluster.cluster_centers_"
   ]
  },
  {
   "cell_type": "code",
   "execution_count": 44,
   "metadata": {},
   "outputs": [
    {
     "data": {
      "text/plain": [
       "array([1, 3, 2, 5, 0, 4, 3, 2, 5, 3, 1, 1, 2, 1, 3, 5, 5, 0, 0, 3, 4, 5,\n",
       "       1, 5, 4, 3, 3, 5, 0, 1, 2, 4, 1, 0, 0, 4, 4, 1, 1, 0, 4, 0, 2, 3,\n",
       "       4, 0, 4, 2, 5, 0, 2, 5, 2, 2, 1, 1, 1, 0, 5, 3, 5, 1, 5, 5, 5, 1,\n",
       "       0, 3, 5, 2, 4, 5, 1, 5, 2, 0, 2, 5, 3, 0, 3, 0, 0, 2, 4, 2, 4, 4,\n",
       "       3, 0, 1, 0, 4, 1, 5, 5, 5, 2, 4, 4])"
      ]
     },
     "execution_count": 44,
     "metadata": {},
     "output_type": "execute_result"
    }
   ],
   "source": [
    "cluster.labels_"
   ]
  },
  {
   "cell_type": "code",
   "execution_count": 45,
   "metadata": {},
   "outputs": [],
   "source": [
    "from collections import defaultdict"
   ]
  },
  {
   "cell_type": "code",
   "execution_count": 46,
   "metadata": {},
   "outputs": [],
   "source": [
    "centers = defaultdict(list)"
   ]
  },
  {
   "cell_type": "code",
   "execution_count": 47,
   "metadata": {},
   "outputs": [
    {
     "data": {
      "text/plain": [
       "defaultdict(list, {})"
      ]
     },
     "execution_count": 47,
     "metadata": {},
     "output_type": "execute_result"
    }
   ],
   "source": [
    "centers"
   ]
  },
  {
   "cell_type": "code",
   "execution_count": 48,
   "metadata": {},
   "outputs": [],
   "source": [
    "for label, location in zip(cluster.labels_, tranning_data):\n",
    "    centers[label].append(location)"
   ]
  },
  {
   "cell_type": "code",
   "execution_count": 49,
   "metadata": {},
   "outputs": [
    {
     "data": {
      "text/plain": [
       "defaultdict(list,\n",
       "            {1: [[65, 45],\n",
       "              [71, 66],\n",
       "              [77, 60],\n",
       "              [99, 45],\n",
       "              [63, 57],\n",
       "              [69, 45],\n",
       "              [64, 51],\n",
       "              [62, 47],\n",
       "              [60, 71],\n",
       "              [56, 58],\n",
       "              [92, 40],\n",
       "              [100, 57],\n",
       "              [93, 61],\n",
       "              [91, 47],\n",
       "              [52, 69],\n",
       "              [56, 59],\n",
       "              [77, 40]],\n",
       "             3: [[69, 20],\n",
       "              [92, 29],\n",
       "              [46, 3],\n",
       "              [74, 0],\n",
       "              [89, 12],\n",
       "              [58, 13],\n",
       "              [89, 1],\n",
       "              [71, 0],\n",
       "              [81, 27],\n",
       "              [49, 15],\n",
       "              [54, 14],\n",
       "              [99, 21],\n",
       "              [61, 11]],\n",
       "             2: [[21, 79],\n",
       "              [47, 89],\n",
       "              [45, 97],\n",
       "              [0, 97],\n",
       "              [10, 85],\n",
       "              [21, 98],\n",
       "              [3, 99],\n",
       "              [8, 99],\n",
       "              [33, 98],\n",
       "              [46, 95],\n",
       "              [3, 81],\n",
       "              [14, 97],\n",
       "              [18, 100],\n",
       "              [20, 79],\n",
       "              [2, 88]],\n",
       "             5: [[66, 86],\n",
       "              [57, 90],\n",
       "              [71, 93],\n",
       "              [88, 79],\n",
       "              [96, 72],\n",
       "              [65, 94],\n",
       "              [96, 93],\n",
       "              [77, 74],\n",
       "              [71, 95],\n",
       "              [93, 67],\n",
       "              [85, 83],\n",
       "              [93, 97],\n",
       "              [52, 82],\n",
       "              [90, 84],\n",
       "              [100, 80],\n",
       "              [82, 88],\n",
       "              [74, 77],\n",
       "              [85, 76],\n",
       "              [89, 80],\n",
       "              [85, 100],\n",
       "              [93, 97]],\n",
       "             0: [[28, 22],\n",
       "              [23, 2],\n",
       "              [5, 12],\n",
       "              [10, 31],\n",
       "              [15, 17],\n",
       "              [26, 5],\n",
       "              [38, 20],\n",
       "              [18, 19],\n",
       "              [12, 10],\n",
       "              [34, 27],\n",
       "              [3, 12],\n",
       "              [22, 34],\n",
       "              [1, 32],\n",
       "              [4, 8],\n",
       "              [1, 9],\n",
       "              [37, 8],\n",
       "              [23, 4],\n",
       "              [32, 29]],\n",
       "             4: [[11, 50],\n",
       "              [32, 53],\n",
       "              [34, 64],\n",
       "              [40, 64],\n",
       "              [16, 51],\n",
       "              [24, 52],\n",
       "              [25, 53],\n",
       "              [16, 71],\n",
       "              [24, 70],\n",
       "              [8, 61],\n",
       "              [29, 63],\n",
       "              [42, 53],\n",
       "              [29, 69],\n",
       "              [14, 60],\n",
       "              [40, 71],\n",
       "              [33, 42]]})"
      ]
     },
     "execution_count": 49,
     "metadata": {},
     "output_type": "execute_result"
    }
   ],
   "source": [
    "centers"
   ]
  },
  {
   "cell_type": "code",
   "execution_count": 50,
   "metadata": {},
   "outputs": [
    {
     "data": {
      "image/png": "[encoded data removed]",
      "text/plain": [
       "<Figure size 432x288 with 1 Axes>"
      ]
     },
     "metadata": {
      "needs_background": "light"
     },
     "output_type": "display_data"
    }
   ],
   "source": [
    "color = ['red', 'green', 'grey', 'black', 'yellow', 'orange']\n",
    "\n",
    "for i, c in enumerate(centers):\n",
    "    for location in centers[c]:\n",
    "        plt.scatter(*location, c=color[i])\n",
    "\n",
    "for center in cluster.cluster_centers_:\n",
    "    plt.scatter(*center, s=100)   "
   ]
  },
  {
   "cell_type": "code",
   "execution_count": null,
   "metadata": {},
   "outputs": [],
   "source": []
  }
 ],
 "metadata": {
  "kernelspec": {
   "display_name": "Python 3",
   "language": "python",
   "name": "python3"
  },
  "language_info": {
   "codemirror_mode": {
    "name": "ipython",
    "version": 3
   },
   "file_extension": ".py",
   "mimetype": "text/x-python",
   "name": "python",
   "nbconvert_exporter": "python",
   "pygments_lexer": "ipython3",
   "version": "3.7.4"
  }
 },
 "nbformat": 4,
 "nbformat_minor": 2
}
