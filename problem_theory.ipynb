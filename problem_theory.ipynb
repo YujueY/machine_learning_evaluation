{
 "cells": [
  {
   "cell_type": "markdown",
   "metadata": {},
   "source": [
    "1. What's the model? why all the models are wrong, but some are useful?"
   ]
  },
  {
   "cell_type": "code",
   "execution_count": null,
   "metadata": {},
   "outputs": [],
   "source": [
    "模型：基于数据集和算法构建出模型。\n",
    "模型不能完全反映数据集的特征关系，但是可以忽略数据集一些不必要的特征关系来结合算法进行应用。"
   ]
  },
  {
   "cell_type": "markdown",
   "metadata": {},
   "source": [
    "2. What's the underfitting and overfitting? List the reasons that could make model overfitting or underfitting."
   ]
  },
  {
   "cell_type": "code",
   "execution_count": null,
   "metadata": {},
   "outputs": [],
   "source": [
    "过拟合：过度契合数据特征，将异常值也考虑进去，在训练集上效果很好，在测试集上效果不好。\n",
    "原因：1、样本噪音过多 2、数据太少 3、迭代次数过多\n",
    "欠拟合：未契合数据特征，在训练集上效果不行，在测试集上效果也不行。\n",
    "原因：1、模型复杂度过低 2、特征数量过少"
   ]
  },
  {
   "cell_type": "markdown",
   "metadata": {},
   "source": [
    "3. What's the precision, recall, AUC, F1, F2score. What are they mainly target on?"
   ]
  },
  {
   "cell_type": "code",
   "execution_count": null,
   "metadata": {},
   "outputs": [],
   "source": [
    "precision：所有正例预测正确个数/所有预测为正例个数（）\n",
    "recall：所有正例预测正确个数/所有正例个数（）\n",
    "AUC：ROC曲线下面积（数据不均衡时使用）\n",
    "F1：F1 = 2*precision*recall/(precision+recall)（折中precision和recall）"
   ]
  },
  {
   "cell_type": "markdown",
   "metadata": {},
   "source": [
    "4. Based on our course and yourself mind, what's the machine learning?"
   ]
  },
  {
   "cell_type": "code",
   "execution_count": null,
   "metadata": {},
   "outputs": [],
   "source": [
    "机器学习是通过已知数据训练模型来预测未知数据的特征属性"
   ]
  },
  {
   "cell_type": "markdown",
   "metadata": {},
   "source": [
    "5. \"正确定义了机器学习模型的评价标准(evaluation)， 问题基本上就已经解决一半\". 这句话是否正确？你是怎么看待的？"
   ]
  },
  {
   "cell_type": "code",
   "execution_count": null,
   "metadata": {},
   "outputs": [],
   "source": [
    "正确。\n",
    "根据任务进行机器学习模型评价标准选择，选取适用的评价标准可以减少模型训练的时间。"
   ]
  }
 ],
 "metadata": {
  "kernelspec": {
   "display_name": "Python 3",
   "language": "python",
   "name": "python3"
  },
  "language_info": {
   "codemirror_mode": {
    "name": "ipython",
    "version": 3
   },
   "file_extension": ".py",
   "mimetype": "text/x-python",
   "name": "python",
   "nbconvert_exporter": "python",
   "pygments_lexer": "ipython3",
   "version": "3.7.4"
  }
 },
 "nbformat": 4,
 "nbformat_minor": 2
}
